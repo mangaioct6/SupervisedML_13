{
 "cells": [
  {
   "cell_type": "markdown",
   "id": "4fd87336",
   "metadata": {},
   "source": [
    "### Group_Activity_week13"
   ]
  },
  {
   "cell_type": "markdown",
   "id": "d921ea5f",
   "metadata": {},
   "source": [
    "### 1. In markdown, describe KNN in your own words.\n"
   ]
  },
  {
   "cell_type": "markdown",
   "id": "30b5d114",
   "metadata": {},
   "source": [
    "KNN - K Nearest Neighbors\n",
    "\n",
    "* KNN is mainly used for classification.\n",
    "\n",
    "\n",
    "* It classifies data based on simple majority vote of the nearest neighbors. Parameter K refers to the number of nearest neighbors included in voting process and it is specified by the user.\n",
    "\n",
    "\n",
    "* Choosing right value of K is important for better accuracy.\n",
    "\n",
    "\n",
    "* There is a suggestion for choosing k value. Sometimes we can choose k value as square root of(n), where n is total number of data points in the training dataset.\n",
    "\n",
    "\n",
    "* To avoid tie, better we select odd numbers for k.\n",
    "\n",
    "\n",
    "How does KNN works?\n",
    "\n",
    "    * Finding Euclidean Distance between given element with the neighbors.\n",
    "    * Get the least distance neighbour (closest neighbor)\n",
    "    * Make prediction based on the closest neighbor\n"
   ]
  },
  {
   "cell_type": "code",
   "execution_count": 32,
   "id": "41cbec80",
   "metadata": {},
   "outputs": [],
   "source": [
    "import numpy as np\n",
    "import pandas as pd\n",
    "import matplotlib.pyplot as plt\n",
    "import seaborn as sns\n",
    "from sklearn.neighbors import KNeighborsClassifier\n",
    "from sklearn.model_selection import train_test_split\n",
    "from sklearn.preprocessing import StandardScaler"
   ]
  },
  {
   "cell_type": "markdown",
   "id": "1a4f1b9b",
   "metadata": {},
   "source": [
    "### 2.Using the KNN example from class, write a function that finds the optimal value for k. You should iterate over a range of values and return the k and the score when the accuracy score is maximized. Be sure to only use odd values.\n"
   ]
  },
  {
   "cell_type": "code",
   "execution_count": 43,
   "id": "8e7a7d0a",
   "metadata": {},
   "outputs": [
    {
     "data": {
      "text/html": [
       "<div>\n",
       "<style scoped>\n",
       "    .dataframe tbody tr th:only-of-type {\n",
       "        vertical-align: middle;\n",
       "    }\n",
       "\n",
       "    .dataframe tbody tr th {\n",
       "        vertical-align: top;\n",
       "    }\n",
       "\n",
       "    .dataframe thead th {\n",
       "        text-align: right;\n",
       "    }\n",
       "</style>\n",
       "<table border=\"1\" class=\"dataframe\">\n",
       "  <thead>\n",
       "    <tr style=\"text-align: right;\">\n",
       "      <th></th>\n",
       "      <th>Pregnancies</th>\n",
       "      <th>Glucose</th>\n",
       "      <th>BloodPressure</th>\n",
       "      <th>SkinThickness</th>\n",
       "      <th>Insulin</th>\n",
       "      <th>BMI</th>\n",
       "      <th>DiabetesPedigreeFunction</th>\n",
       "      <th>Age</th>\n",
       "      <th>Outcome</th>\n",
       "    </tr>\n",
       "  </thead>\n",
       "  <tbody>\n",
       "    <tr>\n",
       "      <th>0</th>\n",
       "      <td>6</td>\n",
       "      <td>148</td>\n",
       "      <td>72</td>\n",
       "      <td>35</td>\n",
       "      <td>0</td>\n",
       "      <td>33.6</td>\n",
       "      <td>0.627</td>\n",
       "      <td>50</td>\n",
       "      <td>1</td>\n",
       "    </tr>\n",
       "    <tr>\n",
       "      <th>1</th>\n",
       "      <td>1</td>\n",
       "      <td>85</td>\n",
       "      <td>66</td>\n",
       "      <td>29</td>\n",
       "      <td>0</td>\n",
       "      <td>26.6</td>\n",
       "      <td>0.351</td>\n",
       "      <td>31</td>\n",
       "      <td>0</td>\n",
       "    </tr>\n",
       "    <tr>\n",
       "      <th>2</th>\n",
       "      <td>8</td>\n",
       "      <td>183</td>\n",
       "      <td>64</td>\n",
       "      <td>0</td>\n",
       "      <td>0</td>\n",
       "      <td>23.3</td>\n",
       "      <td>0.672</td>\n",
       "      <td>32</td>\n",
       "      <td>1</td>\n",
       "    </tr>\n",
       "    <tr>\n",
       "      <th>3</th>\n",
       "      <td>1</td>\n",
       "      <td>89</td>\n",
       "      <td>66</td>\n",
       "      <td>23</td>\n",
       "      <td>94</td>\n",
       "      <td>28.1</td>\n",
       "      <td>0.167</td>\n",
       "      <td>21</td>\n",
       "      <td>0</td>\n",
       "    </tr>\n",
       "    <tr>\n",
       "      <th>4</th>\n",
       "      <td>0</td>\n",
       "      <td>137</td>\n",
       "      <td>40</td>\n",
       "      <td>35</td>\n",
       "      <td>168</td>\n",
       "      <td>43.1</td>\n",
       "      <td>2.288</td>\n",
       "      <td>33</td>\n",
       "      <td>1</td>\n",
       "    </tr>\n",
       "  </tbody>\n",
       "</table>\n",
       "</div>"
      ],
      "text/plain": [
       "   Pregnancies  Glucose  BloodPressure  SkinThickness  Insulin   BMI  \\\n",
       "0            6      148             72             35        0  33.6   \n",
       "1            1       85             66             29        0  26.6   \n",
       "2            8      183             64              0        0  23.3   \n",
       "3            1       89             66             23       94  28.1   \n",
       "4            0      137             40             35      168  43.1   \n",
       "\n",
       "   DiabetesPedigreeFunction  Age  Outcome  \n",
       "0                     0.627   50        1  \n",
       "1                     0.351   31        0  \n",
       "2                     0.672   32        1  \n",
       "3                     0.167   21        0  \n",
       "4                     2.288   33        1  "
      ]
     },
     "execution_count": 43,
     "metadata": {},
     "output_type": "execute_result"
    }
   ],
   "source": [
    "diabetes_df = pd.read_csv(\"diabetes.csv\")\n",
    "diabetes_df.head()"
   ]
  },
  {
   "cell_type": "code",
   "execution_count": 44,
   "id": "1f6c75ee",
   "metadata": {},
   "outputs": [
    {
     "name": "stdout",
     "output_type": "stream",
     "text": [
      "Max score: 0.7316017316017316 for k : 37\n"
     ]
    }
   ],
   "source": [
    "# our goal- predict whether a person will have diabetes or not. Splitting our dataset into training and testing\n",
    "X=diabetes_df.iloc[:,0:8]\n",
    "y=diabetes_df.iloc[:,8]\n",
    "X_train, X_test, y_train, y_test = train_test_split(X, y, test_size=0.3, random_state=10)\n",
    "sc = StandardScaler()\n",
    "X_train = sc.fit_transform(X_train)\n",
    "X_test = sc.fit_transform(X_test)\n",
    "\n",
    "#Finding k value with maximum score\n",
    "\n",
    "score=[]\n",
    "j=0\n",
    "def k_value(k):\n",
    "    global j\n",
    "    for i in k:\n",
    "        knn=KNeighborsClassifier(n_neighbors=i)\n",
    "        knn.fit(X_train, y_train)\n",
    "        score.append(knn.score(X_test,y_test))\n",
    "        if(max(score)==knn.score(X_test,y_test)):\n",
    "            j=i\n",
    "        \n",
    "k=np.arange(1,40,2)\n",
    "k_value(k)\n",
    "print('Max score:',max(score), 'for k :',j)\n"
   ]
  },
  {
   "cell_type": "markdown",
   "id": "4c9cada1",
   "metadata": {},
   "source": [
    "## 3.How did the panel influence your thoughts about working in tech, specifically work in the data realm? Discuss with your group and summarize your thoughts in under 250 words."
   ]
  },
  {
   "cell_type": "markdown",
   "id": "284a9fb7",
   "metadata": {},
   "source": [
    "* We learned a plenty of new things from panel. Tech jobs often promote innovation and development, encouraging people to think of new things and see new possibilities.\n",
    "\n",
    " \n",
    "* What will be our work as a data science engineers? we have to think the problem in business perspective. Study the money flow in a business, study about the data.\n",
    "\n",
    "\n",
    "* Other than preparing behavioral questions, we should know carreer development opportunities from the company we are giving interview. We can ask like,  \"How would you help me to develop my skills?\", \"Do you have mentoring program for new data scientists?\"\n",
    "\n",
    "\n",
    "* In our work if we don't get the data we want, if we get messy data. We have to handle the messy data. We need patience, good listening, seek out from people who have been done it earlier.\n",
    "\n",
    "\n",
    "* Team building skills, focus more on fundamentals of coding.\n",
    "\n",
    "\n",
    "* If we get stuck with the error, we can use mental map. Separate our code line by line, run it and then figure where is the error. Instead of looking at the full program, we can focus on the specific error part.\n",
    "\n",
    "\n",
    "* We got inspired from the panel.Thank you arranging it."
   ]
  }
 ],
 "metadata": {
  "kernelspec": {
   "display_name": "Python 3 (ipykernel)",
   "language": "python",
   "name": "python3"
  },
  "language_info": {
   "codemirror_mode": {
    "name": "ipython",
    "version": 3
   },
   "file_extension": ".py",
   "mimetype": "text/x-python",
   "name": "python",
   "nbconvert_exporter": "python",
   "pygments_lexer": "ipython3",
   "version": "3.7.4"
  }
 },
 "nbformat": 4,
 "nbformat_minor": 5
}
